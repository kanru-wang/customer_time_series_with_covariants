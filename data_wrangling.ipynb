{
 "cells": [
  {
   "cell_type": "markdown",
   "metadata": {},
   "source": [
    "# Customer Multivariate Time Series \n",
    "\n",
    "<br>\n",
    "Kanru Wang Jan 2019\n",
    "<br>\n",
    "<br>\n",
    "<br>\n",
    "<br>"
   ]
  },
  {
   "cell_type": "code",
   "execution_count": 73,
   "metadata": {},
   "outputs": [],
   "source": [
    "import pandas as pd\n",
    "import numpy as np\n",
    "\n",
    "from datetime import datetime\n",
    "from datetime import timedelta"
   ]
  },
  {
   "cell_type": "markdown",
   "metadata": {},
   "source": [
    "<br>\n",
    "<br>\n",
    "\n",
    "Rows with index 14231, 11884 are manually corrected in the raw training data."
   ]
  },
  {
   "cell_type": "code",
   "execution_count": 311,
   "metadata": {},
   "outputs": [],
   "source": [
    "dateparse_1 = lambda x: datetime.strptime(x, '%d/%m/%Y %H:%M')\n",
    "dateparse_2 = lambda x: datetime.strptime(x, '%Y-%m-%d %H:%M:%S')\n",
    "\n",
    "train_raw = pd.read_csv('train.csv', index_col = 0, parse_dates = ['start_time'], date_parser=dateparse_1)\n",
    "test_raw = pd.read_csv('test.csv', index_col = 0, parse_dates = ['start_time'], date_parser=dateparse_2)"
   ]
  },
  {
   "cell_type": "markdown",
   "metadata": {},
   "source": [
    "<br>\n",
    "<br>\n",
    "\n",
    "\n",
    "\n",
    "\n",
    "\n",
    "It is clear that var_bu, var_hl and end_time are useless. Also total_cnt will be modelled as the sum of others + cust.\n",
    "\n",
    "Drop them."
   ]
  },
  {
   "cell_type": "code",
   "execution_count": 312,
   "metadata": {},
   "outputs": [],
   "source": [
    "train_raw = train_raw.drop(['var_bu', 'var_hl', 'end_time', 'total_cnt'], axis = 1)\n",
    "test_raw = test_raw.drop(['var_bu', 'var_hl', 'end_time'], axis = 1)"
   ]
  },
  {
   "cell_type": "markdown",
   "metadata": {},
   "source": [
    "<br>\n",
    "<br>\n",
    "\n",
    "\n",
    "In order for ARIMA to handle seasonality well, plug in the missing rows, so that each hour has its own row."
   ]
  },
  {
   "cell_type": "code",
   "execution_count": 313,
   "metadata": {},
   "outputs": [
    {
     "data": {
      "text/plain": [
       "(15919, 9)"
      ]
     },
     "execution_count": 313,
     "metadata": {},
     "output_type": "execute_result"
    }
   ],
   "source": [
    "train_raw.shape"
   ]
  },
  {
   "cell_type": "code",
   "execution_count": 314,
   "metadata": {},
   "outputs": [
    {
     "data": {
      "text/plain": [
       "(1460, 7)"
      ]
     },
     "execution_count": 314,
     "metadata": {},
     "output_type": "execute_result"
    }
   ],
   "source": [
    "test_raw.shape"
   ]
  },
  {
   "cell_type": "markdown",
   "metadata": {},
   "source": [
    "<br>\n",
    "<br>\n",
    "\n",
    "\n",
    "Start from the training set"
   ]
  },
  {
   "cell_type": "code",
   "execution_count": 315,
   "metadata": {},
   "outputs": [],
   "source": [
    "base_train = train_raw.loc[15919, 'start_time']\n",
    "# 670 days * 24 hours = 16080\n",
    "full_datetime_list_train = [base_train - timedelta(hours=x) for x in range(0, 16080)]"
   ]
  },
  {
   "cell_type": "code",
   "execution_count": 316,
   "metadata": {},
   "outputs": [],
   "source": [
    "full_datetime_df_train = pd.DataFrame(full_datetime_list_train)\n",
    "full_datetime_df_train.columns = ['start_time']\n",
    "full_datetime_df_train = full_datetime_df_train.sort_values('start_time')"
   ]
  },
  {
   "cell_type": "code",
   "execution_count": 317,
   "metadata": {},
   "outputs": [],
   "source": [
    "train_raw = train_raw.reset_index(drop = False)\n",
    "train_expanded = pd.merge(full_datetime_df_train,\n",
    "                          train_raw,\n",
    "                          on='start_time', \n",
    "                          how='left')"
   ]
  },
  {
   "cell_type": "markdown",
   "metadata": {},
   "source": [
    "<br>\n",
    "<br>\n",
    "\n",
    "Do the same for the test set"
   ]
  },
  {
   "cell_type": "code",
   "execution_count": 318,
   "metadata": {},
   "outputs": [],
   "source": [
    "base_test = test_raw.loc[17379, 'start_time']\n",
    "# 61 days * 24 hours = 1464\n",
    "full_datetime_list_test = [base_test - timedelta(hours=x) for x in range(0, 1464)]"
   ]
  },
  {
   "cell_type": "code",
   "execution_count": 319,
   "metadata": {},
   "outputs": [],
   "source": [
    "full_datetime_df_test = pd.DataFrame(full_datetime_list_test)\n",
    "full_datetime_df_test.columns = ['start_time']\n",
    "full_datetime_df_test = full_datetime_df_test.sort_values('start_time')"
   ]
  },
  {
   "cell_type": "code",
   "execution_count": 320,
   "metadata": {},
   "outputs": [],
   "source": [
    "test_raw = test_raw.reset_index(drop = False)\n",
    "test_expanded = pd.merge(full_datetime_df_test,\n",
    "                         test_raw,\n",
    "                         on='start_time', \n",
    "                         how='left')"
   ]
  },
  {
   "cell_type": "markdown",
   "metadata": {},
   "source": [
    "<br>\n",
    "<br>\n",
    "\n",
    "\n",
    "Combine and then fill NA. Fill forward then backward instead of interpolation to avoid peeking into the future.\n",
    "\n",
    "Notice that values to be predicted in the test dataset are temporarily filled anyway."
   ]
  },
  {
   "cell_type": "code",
   "execution_count": 413,
   "metadata": {},
   "outputs": [],
   "source": [
    "combined = pd.concat([train_expanded, test_expanded], axis=0, ignore_index = True, sort=False)\n",
    "combined.loc[np.isnan(combined['idx']), 'idx'] = 999999\n",
    "combined = combined.apply(lambda x: x.fillna(method = \"ffill\", axis = 0).\\\n",
    "                                      fillna(method = \"bfill\",axis = 0))"
   ]
  },
  {
   "cell_type": "markdown",
   "metadata": {},
   "source": [
    "<br>\n",
    "<br>\n",
    "\n",
    "Assume that only the last 24 * 7 hours' feature values have impact on the current hour's result value.\n",
    "\n",
    "The list_of_df_by_window is a list of dataframes each is a sliding window of 24 * 7 + 1 = 169 hours. \n",
    "\n",
    "As you will see in the later process, the first 24 * 7 hours will be used to form features. For the last one hour, there is no feature, except for \"others\" and \"cust\" which are to be forecasted. \n",
    "\n",
    "The total number of dataframes in list_of_df_by_window should be: number of rows in dataset - window length + 1."
   ]
  },
  {
   "cell_type": "code",
   "execution_count": 414,
   "metadata": {},
   "outputs": [],
   "source": [
    "window_size = 24 * 7 + 1\n",
    "\n",
    "def get_list_of_window_sized_df(df):\n",
    "    return [df.iloc[i: i + window_size] for i in range(len(df.index) - window_size + 1)]"
   ]
  },
  {
   "cell_type": "code",
   "execution_count": 415,
   "metadata": {},
   "outputs": [],
   "source": [
    "list_of_df_by_window = get_list_of_window_sized_df(combined)"
   ]
  },
  {
   "cell_type": "markdown",
   "metadata": {},
   "source": [
    "<br>\n",
    "<br>\n",
    "An example of such windows."
   ]
  },
  {
   "cell_type": "code",
   "execution_count": 416,
   "metadata": {},
   "outputs": [
    {
     "data": {
      "text/html": [
       "<div>\n",
       "<style scoped>\n",
       "    .dataframe tbody tr th:only-of-type {\n",
       "        vertical-align: middle;\n",
       "    }\n",
       "\n",
       "    .dataframe tbody tr th {\n",
       "        vertical-align: top;\n",
       "    }\n",
       "\n",
       "    .dataframe thead th {\n",
       "        text-align: right;\n",
       "    }\n",
       "</style>\n",
       "<table border=\"1\" class=\"dataframe\">\n",
       "  <thead>\n",
       "    <tr style=\"text-align: right;\">\n",
       "      <th></th>\n",
       "      <th>start_time</th>\n",
       "      <th>idx</th>\n",
       "      <th>var_w</th>\n",
       "      <th>var_t</th>\n",
       "      <th>var_at</th>\n",
       "      <th>var_m</th>\n",
       "      <th>var_hm</th>\n",
       "      <th>var_wd</th>\n",
       "      <th>others</th>\n",
       "      <th>cust</th>\n",
       "    </tr>\n",
       "  </thead>\n",
       "  <tbody>\n",
       "    <tr>\n",
       "      <th>0</th>\n",
       "      <td>2011-01-01 00:00:00</td>\n",
       "      <td>1.0</td>\n",
       "      <td>1000.0</td>\n",
       "      <td>119.68</td>\n",
       "      <td>68.79</td>\n",
       "      <td>17.0</td>\n",
       "      <td>40.5</td>\n",
       "      <td>0.0</td>\n",
       "      <td>3.0</td>\n",
       "      <td>13.0</td>\n",
       "    </tr>\n",
       "    <tr>\n",
       "      <th>1</th>\n",
       "      <td>2011-01-01 01:00:00</td>\n",
       "      <td>2.0</td>\n",
       "      <td>1000.0</td>\n",
       "      <td>118.04</td>\n",
       "      <td>67.27</td>\n",
       "      <td>44.0</td>\n",
       "      <td>40.0</td>\n",
       "      <td>0.0</td>\n",
       "      <td>8.0</td>\n",
       "      <td>32.0</td>\n",
       "    </tr>\n",
       "    <tr>\n",
       "      <th>2</th>\n",
       "      <td>2011-01-01 02:00:00</td>\n",
       "      <td>3.0</td>\n",
       "      <td>1000.0</td>\n",
       "      <td>118.04</td>\n",
       "      <td>67.27</td>\n",
       "      <td>44.0</td>\n",
       "      <td>40.0</td>\n",
       "      <td>0.0</td>\n",
       "      <td>5.0</td>\n",
       "      <td>27.0</td>\n",
       "    </tr>\n",
       "    <tr>\n",
       "      <th>3</th>\n",
       "      <td>2011-01-01 03:00:00</td>\n",
       "      <td>4.0</td>\n",
       "      <td>1000.0</td>\n",
       "      <td>119.68</td>\n",
       "      <td>68.79</td>\n",
       "      <td>44.0</td>\n",
       "      <td>37.5</td>\n",
       "      <td>0.0</td>\n",
       "      <td>3.0</td>\n",
       "      <td>10.0</td>\n",
       "    </tr>\n",
       "    <tr>\n",
       "      <th>4</th>\n",
       "      <td>2011-01-01 04:00:00</td>\n",
       "      <td>5.0</td>\n",
       "      <td>1000.0</td>\n",
       "      <td>119.68</td>\n",
       "      <td>68.79</td>\n",
       "      <td>44.0</td>\n",
       "      <td>37.5</td>\n",
       "      <td>0.0</td>\n",
       "      <td>0.0</td>\n",
       "      <td>1.0</td>\n",
       "    </tr>\n",
       "  </tbody>\n",
       "</table>\n",
       "</div>"
      ],
      "text/plain": [
       "           start_time  idx   var_w   var_t  var_at  var_m  var_hm  var_wd  \\\n",
       "0 2011-01-01 00:00:00  1.0  1000.0  119.68   68.79   17.0    40.5     0.0   \n",
       "1 2011-01-01 01:00:00  2.0  1000.0  118.04   67.27   44.0    40.0     0.0   \n",
       "2 2011-01-01 02:00:00  3.0  1000.0  118.04   67.27   44.0    40.0     0.0   \n",
       "3 2011-01-01 03:00:00  4.0  1000.0  119.68   68.79   44.0    37.5     0.0   \n",
       "4 2011-01-01 04:00:00  5.0  1000.0  119.68   68.79   44.0    37.5     0.0   \n",
       "\n",
       "   others  cust  \n",
       "0     3.0  13.0  \n",
       "1     8.0  32.0  \n",
       "2     5.0  27.0  \n",
       "3     3.0  10.0  \n",
       "4     0.0   1.0  "
      ]
     },
     "execution_count": 416,
     "metadata": {},
     "output_type": "execute_result"
    }
   ],
   "source": [
    "list_of_df_by_window[0].head()"
   ]
  },
  {
   "cell_type": "code",
   "execution_count": 333,
   "metadata": {},
   "outputs": [
    {
     "data": {
      "text/html": [
       "<div>\n",
       "<style scoped>\n",
       "    .dataframe tbody tr th:only-of-type {\n",
       "        vertical-align: middle;\n",
       "    }\n",
       "\n",
       "    .dataframe tbody tr th {\n",
       "        vertical-align: top;\n",
       "    }\n",
       "\n",
       "    .dataframe thead th {\n",
       "        text-align: right;\n",
       "    }\n",
       "</style>\n",
       "<table border=\"1\" class=\"dataframe\">\n",
       "  <thead>\n",
       "    <tr style=\"text-align: right;\">\n",
       "      <th></th>\n",
       "      <th>start_time</th>\n",
       "      <th>idx</th>\n",
       "      <th>var_w</th>\n",
       "      <th>var_t</th>\n",
       "      <th>var_at</th>\n",
       "      <th>var_m</th>\n",
       "      <th>var_hm</th>\n",
       "      <th>var_wd</th>\n",
       "      <th>others</th>\n",
       "      <th>cust</th>\n",
       "    </tr>\n",
       "  </thead>\n",
       "  <tbody>\n",
       "    <tr>\n",
       "      <th>164</th>\n",
       "      <td>2011-01-07 20:00:00</td>\n",
       "      <td>158.0</td>\n",
       "      <td>1000.0</td>\n",
       "      <td>114.76</td>\n",
       "      <td>61.21</td>\n",
       "      <td>38.0</td>\n",
       "      <td>23.5</td>\n",
       "      <td>3.50075</td>\n",
       "      <td>1.0</td>\n",
       "      <td>50.0</td>\n",
       "    </tr>\n",
       "    <tr>\n",
       "      <th>165</th>\n",
       "      <td>2011-01-07 21:00:00</td>\n",
       "      <td>159.0</td>\n",
       "      <td>1000.0</td>\n",
       "      <td>114.76</td>\n",
       "      <td>59.70</td>\n",
       "      <td>38.0</td>\n",
       "      <td>23.5</td>\n",
       "      <td>4.49905</td>\n",
       "      <td>0.0</td>\n",
       "      <td>39.0</td>\n",
       "    </tr>\n",
       "    <tr>\n",
       "      <th>166</th>\n",
       "      <td>2011-01-07 22:00:00</td>\n",
       "      <td>160.0</td>\n",
       "      <td>2000.0</td>\n",
       "      <td>114.76</td>\n",
       "      <td>59.70</td>\n",
       "      <td>38.0</td>\n",
       "      <td>21.5</td>\n",
       "      <td>5.50070</td>\n",
       "      <td>2.0</td>\n",
       "      <td>34.0</td>\n",
       "    </tr>\n",
       "    <tr>\n",
       "      <th>167</th>\n",
       "      <td>2011-01-07 23:00:00</td>\n",
       "      <td>161.0</td>\n",
       "      <td>2000.0</td>\n",
       "      <td>114.76</td>\n",
       "      <td>59.70</td>\n",
       "      <td>38.0</td>\n",
       "      <td>25.5</td>\n",
       "      <td>5.50070</td>\n",
       "      <td>1.0</td>\n",
       "      <td>14.0</td>\n",
       "    </tr>\n",
       "    <tr>\n",
       "      <th>168</th>\n",
       "      <td>2011-01-08 00:00:00</td>\n",
       "      <td>162.0</td>\n",
       "      <td>2000.0</td>\n",
       "      <td>114.76</td>\n",
       "      <td>59.70</td>\n",
       "      <td>38.0</td>\n",
       "      <td>25.5</td>\n",
       "      <td>5.50070</td>\n",
       "      <td>1.0</td>\n",
       "      <td>24.0</td>\n",
       "    </tr>\n",
       "  </tbody>\n",
       "</table>\n",
       "</div>"
      ],
      "text/plain": [
       "             start_time    idx   var_w   var_t  var_at  var_m  var_hm  \\\n",
       "164 2011-01-07 20:00:00  158.0  1000.0  114.76   61.21   38.0    23.5   \n",
       "165 2011-01-07 21:00:00  159.0  1000.0  114.76   59.70   38.0    23.5   \n",
       "166 2011-01-07 22:00:00  160.0  2000.0  114.76   59.70   38.0    21.5   \n",
       "167 2011-01-07 23:00:00  161.0  2000.0  114.76   59.70   38.0    25.5   \n",
       "168 2011-01-08 00:00:00  162.0  2000.0  114.76   59.70   38.0    25.5   \n",
       "\n",
       "      var_wd  others  cust  \n",
       "164  3.50075     1.0  50.0  \n",
       "165  4.49905     0.0  39.0  \n",
       "166  5.50070     2.0  34.0  \n",
       "167  5.50070     1.0  14.0  \n",
       "168  5.50070     1.0  24.0  "
      ]
     },
     "execution_count": 333,
     "metadata": {},
     "output_type": "execute_result"
    }
   ],
   "source": [
    "list_of_df_by_window[0].tail()"
   ]
  },
  {
   "cell_type": "markdown",
   "metadata": {},
   "source": [
    "<br>\n",
    "<br>\n",
    "\n",
    "### Transform to Tidy format\n",
    "\n",
    "The next step is to transform each window into a row. The list_of_df_by_stock_by_window_flatten_reindexed_unstacked is a list of such rows."
   ]
  },
  {
   "cell_type": "code",
   "execution_count": 417,
   "metadata": {},
   "outputs": [],
   "source": [
    "list_of_df_by_window_reindexed_unstacked = \\\n",
    "    [window.reset_index(drop = True).unstack()\n",
    "     for window in list_of_df_by_window]"
   ]
  },
  {
   "cell_type": "markdown",
   "metadata": {},
   "source": [
    "<br>\n",
    "<br>\n",
    "Concatenate rows into a dataframe."
   ]
  },
  {
   "cell_type": "code",
   "execution_count": 418,
   "metadata": {},
   "outputs": [],
   "source": [
    "tidy_table = pd.concat(list_of_df_by_window_reindexed_unstacked, axis=1).T"
   ]
  },
  {
   "cell_type": "code",
   "execution_count": 419,
   "metadata": {},
   "outputs": [
    {
     "data": {
      "text/plain": [
       "(17376, 1690)"
      ]
     },
     "execution_count": 419,
     "metadata": {},
     "output_type": "execute_result"
    }
   ],
   "source": [
    "tidy_table.shape"
   ]
  },
  {
   "cell_type": "code",
   "execution_count": 420,
   "metadata": {
    "scrolled": true
   },
   "outputs": [
    {
     "data": {
      "text/html": [
       "<div>\n",
       "<style scoped>\n",
       "    .dataframe tbody tr th:only-of-type {\n",
       "        vertical-align: middle;\n",
       "    }\n",
       "\n",
       "    .dataframe tbody tr th {\n",
       "        vertical-align: top;\n",
       "    }\n",
       "\n",
       "    .dataframe thead tr th {\n",
       "        text-align: left;\n",
       "    }\n",
       "</style>\n",
       "<table border=\"1\" class=\"dataframe\">\n",
       "  <thead>\n",
       "    <tr>\n",
       "      <th></th>\n",
       "      <th colspan=\"10\" halign=\"left\">start_time</th>\n",
       "      <th>...</th>\n",
       "      <th colspan=\"10\" halign=\"left\">cust</th>\n",
       "    </tr>\n",
       "    <tr>\n",
       "      <th></th>\n",
       "      <th>0</th>\n",
       "      <th>1</th>\n",
       "      <th>2</th>\n",
       "      <th>3</th>\n",
       "      <th>4</th>\n",
       "      <th>5</th>\n",
       "      <th>6</th>\n",
       "      <th>7</th>\n",
       "      <th>8</th>\n",
       "      <th>9</th>\n",
       "      <th>...</th>\n",
       "      <th>159</th>\n",
       "      <th>160</th>\n",
       "      <th>161</th>\n",
       "      <th>162</th>\n",
       "      <th>163</th>\n",
       "      <th>164</th>\n",
       "      <th>165</th>\n",
       "      <th>166</th>\n",
       "      <th>167</th>\n",
       "      <th>168</th>\n",
       "    </tr>\n",
       "  </thead>\n",
       "  <tbody>\n",
       "    <tr>\n",
       "      <th>0</th>\n",
       "      <td>2011-01-01 00:00:00</td>\n",
       "      <td>2011-01-01 01:00:00</td>\n",
       "      <td>2011-01-01 02:00:00</td>\n",
       "      <td>2011-01-01 03:00:00</td>\n",
       "      <td>2011-01-01 04:00:00</td>\n",
       "      <td>2011-01-01 05:00:00</td>\n",
       "      <td>2011-01-01 06:00:00</td>\n",
       "      <td>2011-01-01 07:00:00</td>\n",
       "      <td>2011-01-01 08:00:00</td>\n",
       "      <td>2011-01-01 09:00:00</td>\n",
       "      <td>...</td>\n",
       "      <td>63</td>\n",
       "      <td>82</td>\n",
       "      <td>178</td>\n",
       "      <td>116</td>\n",
       "      <td>92</td>\n",
       "      <td>50</td>\n",
       "      <td>39</td>\n",
       "      <td>34</td>\n",
       "      <td>14</td>\n",
       "      <td>24</td>\n",
       "    </tr>\n",
       "    <tr>\n",
       "      <th>1</th>\n",
       "      <td>2011-01-01 01:00:00</td>\n",
       "      <td>2011-01-01 02:00:00</td>\n",
       "      <td>2011-01-01 03:00:00</td>\n",
       "      <td>2011-01-01 04:00:00</td>\n",
       "      <td>2011-01-01 05:00:00</td>\n",
       "      <td>2011-01-01 06:00:00</td>\n",
       "      <td>2011-01-01 07:00:00</td>\n",
       "      <td>2011-01-01 08:00:00</td>\n",
       "      <td>2011-01-01 09:00:00</td>\n",
       "      <td>2011-01-01 10:00:00</td>\n",
       "      <td>...</td>\n",
       "      <td>82</td>\n",
       "      <td>178</td>\n",
       "      <td>116</td>\n",
       "      <td>92</td>\n",
       "      <td>50</td>\n",
       "      <td>39</td>\n",
       "      <td>34</td>\n",
       "      <td>14</td>\n",
       "      <td>24</td>\n",
       "      <td>15</td>\n",
       "    </tr>\n",
       "    <tr>\n",
       "      <th>2</th>\n",
       "      <td>2011-01-01 02:00:00</td>\n",
       "      <td>2011-01-01 03:00:00</td>\n",
       "      <td>2011-01-01 04:00:00</td>\n",
       "      <td>2011-01-01 05:00:00</td>\n",
       "      <td>2011-01-01 06:00:00</td>\n",
       "      <td>2011-01-01 07:00:00</td>\n",
       "      <td>2011-01-01 08:00:00</td>\n",
       "      <td>2011-01-01 09:00:00</td>\n",
       "      <td>2011-01-01 10:00:00</td>\n",
       "      <td>2011-01-01 11:00:00</td>\n",
       "      <td>...</td>\n",
       "      <td>178</td>\n",
       "      <td>116</td>\n",
       "      <td>92</td>\n",
       "      <td>50</td>\n",
       "      <td>39</td>\n",
       "      <td>34</td>\n",
       "      <td>14</td>\n",
       "      <td>24</td>\n",
       "      <td>15</td>\n",
       "      <td>13</td>\n",
       "    </tr>\n",
       "    <tr>\n",
       "      <th>3</th>\n",
       "      <td>2011-01-01 03:00:00</td>\n",
       "      <td>2011-01-01 04:00:00</td>\n",
       "      <td>2011-01-01 05:00:00</td>\n",
       "      <td>2011-01-01 06:00:00</td>\n",
       "      <td>2011-01-01 07:00:00</td>\n",
       "      <td>2011-01-01 08:00:00</td>\n",
       "      <td>2011-01-01 09:00:00</td>\n",
       "      <td>2011-01-01 10:00:00</td>\n",
       "      <td>2011-01-01 11:00:00</td>\n",
       "      <td>2011-01-01 12:00:00</td>\n",
       "      <td>...</td>\n",
       "      <td>116</td>\n",
       "      <td>92</td>\n",
       "      <td>50</td>\n",
       "      <td>39</td>\n",
       "      <td>34</td>\n",
       "      <td>14</td>\n",
       "      <td>24</td>\n",
       "      <td>15</td>\n",
       "      <td>13</td>\n",
       "      <td>7</td>\n",
       "    </tr>\n",
       "    <tr>\n",
       "      <th>4</th>\n",
       "      <td>2011-01-01 04:00:00</td>\n",
       "      <td>2011-01-01 05:00:00</td>\n",
       "      <td>2011-01-01 06:00:00</td>\n",
       "      <td>2011-01-01 07:00:00</td>\n",
       "      <td>2011-01-01 08:00:00</td>\n",
       "      <td>2011-01-01 09:00:00</td>\n",
       "      <td>2011-01-01 10:00:00</td>\n",
       "      <td>2011-01-01 11:00:00</td>\n",
       "      <td>2011-01-01 12:00:00</td>\n",
       "      <td>2011-01-01 13:00:00</td>\n",
       "      <td>...</td>\n",
       "      <td>92</td>\n",
       "      <td>50</td>\n",
       "      <td>39</td>\n",
       "      <td>34</td>\n",
       "      <td>14</td>\n",
       "      <td>24</td>\n",
       "      <td>15</td>\n",
       "      <td>13</td>\n",
       "      <td>7</td>\n",
       "      <td>1</td>\n",
       "    </tr>\n",
       "  </tbody>\n",
       "</table>\n",
       "<p>5 rows × 1690 columns</p>\n",
       "</div>"
      ],
      "text/plain": [
       "            start_time                                            \\\n",
       "                   0                    1                    2     \n",
       "0  2011-01-01 00:00:00  2011-01-01 01:00:00  2011-01-01 02:00:00   \n",
       "1  2011-01-01 01:00:00  2011-01-01 02:00:00  2011-01-01 03:00:00   \n",
       "2  2011-01-01 02:00:00  2011-01-01 03:00:00  2011-01-01 04:00:00   \n",
       "3  2011-01-01 03:00:00  2011-01-01 04:00:00  2011-01-01 05:00:00   \n",
       "4  2011-01-01 04:00:00  2011-01-01 05:00:00  2011-01-01 06:00:00   \n",
       "\n",
       "                                                                  \\\n",
       "                   3                    4                    5     \n",
       "0  2011-01-01 03:00:00  2011-01-01 04:00:00  2011-01-01 05:00:00   \n",
       "1  2011-01-01 04:00:00  2011-01-01 05:00:00  2011-01-01 06:00:00   \n",
       "2  2011-01-01 05:00:00  2011-01-01 06:00:00  2011-01-01 07:00:00   \n",
       "3  2011-01-01 06:00:00  2011-01-01 07:00:00  2011-01-01 08:00:00   \n",
       "4  2011-01-01 07:00:00  2011-01-01 08:00:00  2011-01-01 09:00:00   \n",
       "\n",
       "                                                                  \\\n",
       "                   6                    7                    8     \n",
       "0  2011-01-01 06:00:00  2011-01-01 07:00:00  2011-01-01 08:00:00   \n",
       "1  2011-01-01 07:00:00  2011-01-01 08:00:00  2011-01-01 09:00:00   \n",
       "2  2011-01-01 08:00:00  2011-01-01 09:00:00  2011-01-01 10:00:00   \n",
       "3  2011-01-01 09:00:00  2011-01-01 10:00:00  2011-01-01 11:00:00   \n",
       "4  2011-01-01 10:00:00  2011-01-01 11:00:00  2011-01-01 12:00:00   \n",
       "\n",
       "                       ... cust                                         \n",
       "                   9   ...  159  160  161  162 163 164 165 166 167 168  \n",
       "0  2011-01-01 09:00:00 ...   63   82  178  116  92  50  39  34  14  24  \n",
       "1  2011-01-01 10:00:00 ...   82  178  116   92  50  39  34  14  24  15  \n",
       "2  2011-01-01 11:00:00 ...  178  116   92   50  39  34  14  24  15  13  \n",
       "3  2011-01-01 12:00:00 ...  116   92   50   39  34  14  24  15  13   7  \n",
       "4  2011-01-01 13:00:00 ...   92   50   39   34  14  24  15  13   7   1  \n",
       "\n",
       "[5 rows x 1690 columns]"
      ]
     },
     "execution_count": 420,
     "metadata": {},
     "output_type": "execute_result"
    }
   ],
   "source": [
    "tidy_table.head()"
   ]
  },
  {
   "cell_type": "markdown",
   "metadata": {},
   "source": [
    "<br>\n",
    "<br>\n",
    "Flatten the column names."
   ]
  },
  {
   "cell_type": "code",
   "execution_count": 421,
   "metadata": {},
   "outputs": [],
   "source": [
    "tidy_table.columns = [col[0] + '_' + str(col[1]) for col in tidy_table.columns.values]"
   ]
  },
  {
   "cell_type": "markdown",
   "metadata": {},
   "source": [
    "<br>\n",
    "<br>\n",
    "Take a look:"
   ]
  },
  {
   "cell_type": "code",
   "execution_count": 422,
   "metadata": {},
   "outputs": [
    {
     "data": {
      "text/plain": [
       "Index(['start_time_0', 'start_time_1', 'start_time_2', 'start_time_3',\n",
       "       'start_time_4', 'start_time_5', 'start_time_6', 'start_time_7',\n",
       "       'start_time_8', 'start_time_9',\n",
       "       ...\n",
       "       'start_time_159', 'start_time_160', 'start_time_161', 'start_time_162',\n",
       "       'start_time_163', 'start_time_164', 'start_time_165', 'start_time_166',\n",
       "       'start_time_167', 'start_time_168'],\n",
       "      dtype='object', length=169)"
      ]
     },
     "execution_count": 422,
     "metadata": {},
     "output_type": "execute_result"
    }
   ],
   "source": [
    "tidy_table.columns[0:169]"
   ]
  },
  {
   "cell_type": "code",
   "execution_count": 423,
   "metadata": {},
   "outputs": [
    {
     "data": {
      "text/plain": [
       "Index(['idx_0', 'idx_1', 'idx_2', 'idx_3', 'idx_4', 'idx_5', 'idx_6', 'idx_7',\n",
       "       'idx_8', 'idx_9',\n",
       "       ...\n",
       "       'idx_159', 'idx_160', 'idx_161', 'idx_162', 'idx_163', 'idx_164',\n",
       "       'idx_165', 'idx_166', 'idx_167', 'idx_168'],\n",
       "      dtype='object', length=169)"
      ]
     },
     "execution_count": 423,
     "metadata": {},
     "output_type": "execute_result"
    }
   ],
   "source": [
    "tidy_table.columns[169 : 169 * 2]"
   ]
  },
  {
   "cell_type": "code",
   "execution_count": 424,
   "metadata": {},
   "outputs": [
    {
     "data": {
      "text/plain": [
       "Index(['var_w_0', 'var_w_1', 'var_w_2', 'var_w_3', 'var_w_4', 'var_w_5',\n",
       "       'var_w_6', 'var_w_7', 'var_w_8', 'var_w_9',\n",
       "       ...\n",
       "       'var_w_159', 'var_w_160', 'var_w_161', 'var_w_162', 'var_w_163',\n",
       "       'var_w_164', 'var_w_165', 'var_w_166', 'var_w_167', 'var_w_168'],\n",
       "      dtype='object', length=169)"
      ]
     },
     "execution_count": 424,
     "metadata": {},
     "output_type": "execute_result"
    }
   ],
   "source": [
    "tidy_table.columns[169 * 2 : 169 * 3]"
   ]
  },
  {
   "cell_type": "code",
   "execution_count": 425,
   "metadata": {},
   "outputs": [
    {
     "data": {
      "text/plain": [
       "Index(['var_t_0', 'var_t_1', 'var_t_2', 'var_t_3', 'var_t_4', 'var_t_5',\n",
       "       'var_t_6', 'var_t_7', 'var_t_8', 'var_t_9',\n",
       "       ...\n",
       "       'var_t_159', 'var_t_160', 'var_t_161', 'var_t_162', 'var_t_163',\n",
       "       'var_t_164', 'var_t_165', 'var_t_166', 'var_t_167', 'var_t_168'],\n",
       "      dtype='object', length=169)"
      ]
     },
     "execution_count": 425,
     "metadata": {},
     "output_type": "execute_result"
    }
   ],
   "source": [
    "tidy_table.columns[169 * 3 : 169 * 4]"
   ]
  },
  {
   "cell_type": "code",
   "execution_count": 426,
   "metadata": {},
   "outputs": [
    {
     "data": {
      "text/plain": [
       "Index(['var_at_0', 'var_at_1', 'var_at_2', 'var_at_3', 'var_at_4', 'var_at_5',\n",
       "       'var_at_6', 'var_at_7', 'var_at_8', 'var_at_9',\n",
       "       ...\n",
       "       'var_at_159', 'var_at_160', 'var_at_161', 'var_at_162', 'var_at_163',\n",
       "       'var_at_164', 'var_at_165', 'var_at_166', 'var_at_167', 'var_at_168'],\n",
       "      dtype='object', length=169)"
      ]
     },
     "execution_count": 426,
     "metadata": {},
     "output_type": "execute_result"
    }
   ],
   "source": [
    "tidy_table.columns[169 * 4 : 169 * 5]"
   ]
  },
  {
   "cell_type": "code",
   "execution_count": 427,
   "metadata": {},
   "outputs": [
    {
     "data": {
      "text/plain": [
       "Index(['var_m_0', 'var_m_1', 'var_m_2', 'var_m_3', 'var_m_4', 'var_m_5',\n",
       "       'var_m_6', 'var_m_7', 'var_m_8', 'var_m_9',\n",
       "       ...\n",
       "       'var_m_159', 'var_m_160', 'var_m_161', 'var_m_162', 'var_m_163',\n",
       "       'var_m_164', 'var_m_165', 'var_m_166', 'var_m_167', 'var_m_168'],\n",
       "      dtype='object', length=169)"
      ]
     },
     "execution_count": 427,
     "metadata": {},
     "output_type": "execute_result"
    }
   ],
   "source": [
    "tidy_table.columns[169 * 5 : 169 * 6]"
   ]
  },
  {
   "cell_type": "code",
   "execution_count": 428,
   "metadata": {},
   "outputs": [
    {
     "data": {
      "text/plain": [
       "Index(['var_hm_0', 'var_hm_1', 'var_hm_2', 'var_hm_3', 'var_hm_4', 'var_hm_5',\n",
       "       'var_hm_6', 'var_hm_7', 'var_hm_8', 'var_hm_9',\n",
       "       ...\n",
       "       'var_hm_159', 'var_hm_160', 'var_hm_161', 'var_hm_162', 'var_hm_163',\n",
       "       'var_hm_164', 'var_hm_165', 'var_hm_166', 'var_hm_167', 'var_hm_168'],\n",
       "      dtype='object', length=169)"
      ]
     },
     "execution_count": 428,
     "metadata": {},
     "output_type": "execute_result"
    }
   ],
   "source": [
    "tidy_table.columns[169 * 6 : 169 * 7]"
   ]
  },
  {
   "cell_type": "code",
   "execution_count": 429,
   "metadata": {},
   "outputs": [
    {
     "data": {
      "text/plain": [
       "Index(['var_wd_0', 'var_wd_1', 'var_wd_2', 'var_wd_3', 'var_wd_4', 'var_wd_5',\n",
       "       'var_wd_6', 'var_wd_7', 'var_wd_8', 'var_wd_9',\n",
       "       ...\n",
       "       'var_wd_159', 'var_wd_160', 'var_wd_161', 'var_wd_162', 'var_wd_163',\n",
       "       'var_wd_164', 'var_wd_165', 'var_wd_166', 'var_wd_167', 'var_wd_168'],\n",
       "      dtype='object', length=169)"
      ]
     },
     "execution_count": 429,
     "metadata": {},
     "output_type": "execute_result"
    }
   ],
   "source": [
    "tidy_table.columns[169 * 7 : 169 * 8]"
   ]
  },
  {
   "cell_type": "code",
   "execution_count": 430,
   "metadata": {},
   "outputs": [
    {
     "data": {
      "text/plain": [
       "Index(['others_0', 'others_1', 'others_2', 'others_3', 'others_4', 'others_5',\n",
       "       'others_6', 'others_7', 'others_8', 'others_9',\n",
       "       ...\n",
       "       'others_159', 'others_160', 'others_161', 'others_162', 'others_163',\n",
       "       'others_164', 'others_165', 'others_166', 'others_167', 'others_168'],\n",
       "      dtype='object', length=169)"
      ]
     },
     "execution_count": 430,
     "metadata": {},
     "output_type": "execute_result"
    }
   ],
   "source": [
    "tidy_table.columns[169 * 8 : 169 * 9]"
   ]
  },
  {
   "cell_type": "code",
   "execution_count": 431,
   "metadata": {},
   "outputs": [
    {
     "data": {
      "text/plain": [
       "Index(['cust_0', 'cust_1', 'cust_2', 'cust_3', 'cust_4', 'cust_5', 'cust_6',\n",
       "       'cust_7', 'cust_8', 'cust_9',\n",
       "       ...\n",
       "       'cust_159', 'cust_160', 'cust_161', 'cust_162', 'cust_163', 'cust_164',\n",
       "       'cust_165', 'cust_166', 'cust_167', 'cust_168'],\n",
       "      dtype='object', length=169)"
      ]
     },
     "execution_count": 431,
     "metadata": {},
     "output_type": "execute_result"
    }
   ],
   "source": [
    "tidy_table.columns[169 * 9 : 169 * 10]"
   ]
  },
  {
   "cell_type": "markdown",
   "metadata": {},
   "source": [
    "<br>\n",
    "<br>\n",
    "\n",
    "### Feature engineering"
   ]
  },
  {
   "cell_type": "markdown",
   "metadata": {},
   "source": [
    "As a starting point..."
   ]
  },
  {
   "cell_type": "code",
   "execution_count": 432,
   "metadata": {},
   "outputs": [],
   "source": [
    "tidy_more_features = tidy_table[['start_time_168', 'idx_168', 'cust_168', 'others_168']]"
   ]
  },
  {
   "cell_type": "markdown",
   "metadata": {},
   "source": [
    "Then define a function to generate more features. Specifically, using the sum of the value of 2 ** n hours:\n",
    "\n",
    "- Sum of last 001 hours =\n",
    "- Sum of last 002 hours ==\n",
    "- Sum of last 004 hours ====\n",
    "- Sum of last 008 hours ========\n",
    "- ...\n",
    "- ...\n",
    "- ...\n",
    "- Sum of last 128 hours ======================================================\n",
    "- Sum of last 168 hours ===================================================================="
   ]
  },
  {
   "cell_type": "code",
   "execution_count": 433,
   "metadata": {},
   "outputs": [],
   "source": [
    "def add_more_rolling_features(df1, df2, string, start, end):\n",
    "    df1.loc[:, string + '_168'] = df2.loc[:, string + '_168']\n",
    "    df1.loc[:, string + '_last_2'] = df2.iloc[:, end - 1 - 2 ** 1 : end - 1].sum(axis=1)\n",
    "    df1.loc[:, string + '_last_4'] = df2.iloc[:, end - 1 - 2 ** 2 : end - 1].sum(axis=1)\n",
    "    df1.loc[:, string + '_last_8'] = df2.iloc[:, end - 1 - 2 ** 3 : end - 1].sum(axis=1)\n",
    "    df1.loc[:, string + '_last_16'] = df2.iloc[:, end - 1 - 2 ** 4 : end - 1].sum(axis=1)\n",
    "    df1.loc[:, string + '_last_32'] = df2.iloc[:, end - 1 - 2 ** 5 : end - 1].sum(axis=1)\n",
    "    df1.loc[:, string + '_last_64'] = df2.iloc[:, end - 1 - 2 ** 6 : end - 1].sum(axis=1)\n",
    "    df1.loc[:, string + '_last_128'] = df2.iloc[:, end - 1 - 2 ** 7 : end - 1].sum(axis=1)\n",
    "    df1.loc[:, string + '_last_168'] = df2.iloc[:, start : end - 1].sum(axis=1)\n",
    "    return df1"
   ]
  },
  {
   "cell_type": "code",
   "execution_count": 434,
   "metadata": {},
   "outputs": [
    {
     "name": "stderr",
     "output_type": "stream",
     "text": [
      "C:\\Users\\wangka3\\AppData\\Local\\Continuum\\anaconda3\\lib\\site-packages\\pandas\\core\\indexing.py:362: SettingWithCopyWarning: \n",
      "A value is trying to be set on a copy of a slice from a DataFrame.\n",
      "Try using .loc[row_indexer,col_indexer] = value instead\n",
      "\n",
      "See the caveats in the documentation: http://pandas.pydata.org/pandas-docs/stable/indexing.html#indexing-view-versus-copy\n",
      "  self.obj[key] = _infer_fill_value(value)\n",
      "C:\\Users\\wangka3\\AppData\\Local\\Continuum\\anaconda3\\lib\\site-packages\\pandas\\core\\indexing.py:543: SettingWithCopyWarning: \n",
      "A value is trying to be set on a copy of a slice from a DataFrame.\n",
      "Try using .loc[row_indexer,col_indexer] = value instead\n",
      "\n",
      "See the caveats in the documentation: http://pandas.pydata.org/pandas-docs/stable/indexing.html#indexing-view-versus-copy\n",
      "  self.obj[item] = s\n"
     ]
    }
   ],
   "source": [
    "tidy_more_features = add_more_rolling_features(tidy_more_features, tidy_table, 'var_w', 169 * 2, 169 * 3)"
   ]
  },
  {
   "cell_type": "code",
   "execution_count": 435,
   "metadata": {},
   "outputs": [
    {
     "data": {
      "text/html": [
       "<div>\n",
       "<style scoped>\n",
       "    .dataframe tbody tr th:only-of-type {\n",
       "        vertical-align: middle;\n",
       "    }\n",
       "\n",
       "    .dataframe tbody tr th {\n",
       "        vertical-align: top;\n",
       "    }\n",
       "\n",
       "    .dataframe thead th {\n",
       "        text-align: right;\n",
       "    }\n",
       "</style>\n",
       "<table border=\"1\" class=\"dataframe\">\n",
       "  <thead>\n",
       "    <tr style=\"text-align: right;\">\n",
       "      <th></th>\n",
       "      <th>start_time_168</th>\n",
       "      <th>idx_168</th>\n",
       "      <th>cust_168</th>\n",
       "      <th>others_168</th>\n",
       "      <th>var_w_168</th>\n",
       "      <th>var_w_last_2</th>\n",
       "      <th>var_w_last_4</th>\n",
       "      <th>var_w_last_8</th>\n",
       "      <th>var_w_last_16</th>\n",
       "      <th>var_w_last_32</th>\n",
       "      <th>var_w_last_64</th>\n",
       "      <th>var_w_last_128</th>\n",
       "      <th>var_w_last_168</th>\n",
       "    </tr>\n",
       "  </thead>\n",
       "  <tbody>\n",
       "    <tr>\n",
       "      <th>0</th>\n",
       "      <td>2011-01-08 00:00:00</td>\n",
       "      <td>162</td>\n",
       "      <td>24</td>\n",
       "      <td>1</td>\n",
       "      <td>2000</td>\n",
       "      <td>4000.0</td>\n",
       "      <td>6000.0</td>\n",
       "      <td>12000.0</td>\n",
       "      <td>25000.0</td>\n",
       "      <td>52000.0</td>\n",
       "      <td>89000.0</td>\n",
       "      <td>157000.0</td>\n",
       "      <td>231000.0</td>\n",
       "    </tr>\n",
       "    <tr>\n",
       "      <th>1</th>\n",
       "      <td>2011-01-08 01:00:00</td>\n",
       "      <td>163</td>\n",
       "      <td>15</td>\n",
       "      <td>1</td>\n",
       "      <td>2000</td>\n",
       "      <td>4000.0</td>\n",
       "      <td>7000.0</td>\n",
       "      <td>12000.0</td>\n",
       "      <td>26000.0</td>\n",
       "      <td>53000.0</td>\n",
       "      <td>90000.0</td>\n",
       "      <td>156000.0</td>\n",
       "      <td>232000.0</td>\n",
       "    </tr>\n",
       "    <tr>\n",
       "      <th>2</th>\n",
       "      <td>2011-01-08 02:00:00</td>\n",
       "      <td>164</td>\n",
       "      <td>13</td>\n",
       "      <td>3</td>\n",
       "      <td>2000</td>\n",
       "      <td>4000.0</td>\n",
       "      <td>8000.0</td>\n",
       "      <td>12000.0</td>\n",
       "      <td>27000.0</td>\n",
       "      <td>54000.0</td>\n",
       "      <td>91000.0</td>\n",
       "      <td>157000.0</td>\n",
       "      <td>233000.0</td>\n",
       "    </tr>\n",
       "    <tr>\n",
       "      <th>3</th>\n",
       "      <td>2011-01-08 03:00:00</td>\n",
       "      <td>165</td>\n",
       "      <td>7</td>\n",
       "      <td>0</td>\n",
       "      <td>3000</td>\n",
       "      <td>4000.0</td>\n",
       "      <td>8000.0</td>\n",
       "      <td>13000.0</td>\n",
       "      <td>28000.0</td>\n",
       "      <td>55000.0</td>\n",
       "      <td>92000.0</td>\n",
       "      <td>157000.0</td>\n",
       "      <td>234000.0</td>\n",
       "    </tr>\n",
       "    <tr>\n",
       "      <th>4</th>\n",
       "      <td>2011-01-08 04:00:00</td>\n",
       "      <td>166</td>\n",
       "      <td>1</td>\n",
       "      <td>0</td>\n",
       "      <td>3000</td>\n",
       "      <td>5000.0</td>\n",
       "      <td>9000.0</td>\n",
       "      <td>15000.0</td>\n",
       "      <td>29000.0</td>\n",
       "      <td>57000.0</td>\n",
       "      <td>94000.0</td>\n",
       "      <td>159000.0</td>\n",
       "      <td>236000.0</td>\n",
       "    </tr>\n",
       "  </tbody>\n",
       "</table>\n",
       "</div>"
      ],
      "text/plain": [
       "        start_time_168 idx_168 cust_168 others_168 var_w_168  var_w_last_2  \\\n",
       "0  2011-01-08 00:00:00     162       24          1      2000        4000.0   \n",
       "1  2011-01-08 01:00:00     163       15          1      2000        4000.0   \n",
       "2  2011-01-08 02:00:00     164       13          3      2000        4000.0   \n",
       "3  2011-01-08 03:00:00     165        7          0      3000        4000.0   \n",
       "4  2011-01-08 04:00:00     166        1          0      3000        5000.0   \n",
       "\n",
       "   var_w_last_4  var_w_last_8  var_w_last_16  var_w_last_32  var_w_last_64  \\\n",
       "0        6000.0       12000.0        25000.0        52000.0        89000.0   \n",
       "1        7000.0       12000.0        26000.0        53000.0        90000.0   \n",
       "2        8000.0       12000.0        27000.0        54000.0        91000.0   \n",
       "3        8000.0       13000.0        28000.0        55000.0        92000.0   \n",
       "4        9000.0       15000.0        29000.0        57000.0        94000.0   \n",
       "\n",
       "   var_w_last_128  var_w_last_168  \n",
       "0        157000.0        231000.0  \n",
       "1        156000.0        232000.0  \n",
       "2        157000.0        233000.0  \n",
       "3        157000.0        234000.0  \n",
       "4        159000.0        236000.0  "
      ]
     },
     "execution_count": 435,
     "metadata": {},
     "output_type": "execute_result"
    }
   ],
   "source": [
    "tidy_more_features.head()"
   ]
  },
  {
   "cell_type": "markdown",
   "metadata": {},
   "source": [
    "<br>\n",
    "<br>\n",
    "Let's apply the same generation function to the rest of the useful features."
   ]
  },
  {
   "cell_type": "code",
   "execution_count": 436,
   "metadata": {},
   "outputs": [],
   "source": [
    "tidy_more_features = add_more_rolling_features(tidy_more_features, tidy_table, 'var_w', 169 * 2, 169 * 3)\n",
    "tidy_more_features = add_more_rolling_features(tidy_more_features, tidy_table, 'var_t', 169 * 3, 169 * 4)\n",
    "tidy_more_features = add_more_rolling_features(tidy_more_features, tidy_table, 'var_at', 169 * 4, 169 * 5)\n",
    "tidy_more_features = add_more_rolling_features(tidy_more_features, tidy_table, 'var_m', 169 * 5, 169 * 6)\n",
    "tidy_more_features = add_more_rolling_features(tidy_more_features, tidy_table, 'var_hm', 169 * 6, 169 * 7)\n",
    "tidy_more_features = add_more_rolling_features(tidy_more_features, tidy_table, 'var_wd', 169 * 7, 169 * 8)"
   ]
  },
  {
   "cell_type": "code",
   "execution_count": 437,
   "metadata": {},
   "outputs": [
    {
     "data": {
      "text/plain": [
       "Index(['start_time_168', 'idx_168', 'cust_168', 'others_168', 'var_w_168',\n",
       "       'var_w_last_2', 'var_w_last_4', 'var_w_last_8', 'var_w_last_16',\n",
       "       'var_w_last_32', 'var_w_last_64', 'var_w_last_128', 'var_w_last_168',\n",
       "       'var_t_168', 'var_t_last_2', 'var_t_last_4', 'var_t_last_8',\n",
       "       'var_t_last_16', 'var_t_last_32', 'var_t_last_64', 'var_t_last_128',\n",
       "       'var_t_last_168', 'var_at_168', 'var_at_last_2', 'var_at_last_4',\n",
       "       'var_at_last_8', 'var_at_last_16', 'var_at_last_32', 'var_at_last_64',\n",
       "       'var_at_last_128', 'var_at_last_168', 'var_m_168', 'var_m_last_2',\n",
       "       'var_m_last_4', 'var_m_last_8', 'var_m_last_16', 'var_m_last_32',\n",
       "       'var_m_last_64', 'var_m_last_128', 'var_m_last_168', 'var_hm_168',\n",
       "       'var_hm_last_2', 'var_hm_last_4', 'var_hm_last_8', 'var_hm_last_16',\n",
       "       'var_hm_last_32', 'var_hm_last_64', 'var_hm_last_128',\n",
       "       'var_hm_last_168', 'var_wd_168', 'var_wd_last_2', 'var_wd_last_4',\n",
       "       'var_wd_last_8', 'var_wd_last_16', 'var_wd_last_32', 'var_wd_last_64',\n",
       "       'var_wd_last_128', 'var_wd_last_168'],\n",
       "      dtype='object')"
      ]
     },
     "execution_count": 437,
     "metadata": {},
     "output_type": "execute_result"
    }
   ],
   "source": [
    "tidy_more_features.columns"
   ]
  },
  {
   "cell_type": "markdown",
   "metadata": {},
   "source": [
    "<br>\n",
    "<br>\n",
    "\n",
    "### Export to csv"
   ]
  },
  {
   "cell_type": "code",
   "execution_count": 438,
   "metadata": {},
   "outputs": [],
   "source": [
    "tidy_more_features.to_csv(\"combined_clean.csv\", index = False)"
   ]
  },
  {
   "cell_type": "code",
   "execution_count": null,
   "metadata": {},
   "outputs": [],
   "source": []
  },
  {
   "cell_type": "code",
   "execution_count": null,
   "metadata": {},
   "outputs": [],
   "source": []
  }
 ],
 "metadata": {
  "kernelspec": {
   "display_name": "Python 3",
   "language": "python",
   "name": "python3"
  },
  "language_info": {
   "codemirror_mode": {
    "name": "ipython",
    "version": 3
   },
   "file_extension": ".py",
   "mimetype": "text/x-python",
   "name": "python",
   "nbconvert_exporter": "python",
   "pygments_lexer": "ipython3",
   "version": "3.7.1"
  }
 },
 "nbformat": 4,
 "nbformat_minor": 2
}
